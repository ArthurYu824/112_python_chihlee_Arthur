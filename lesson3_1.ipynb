{
 "cells": [
  {
   "cell_type": "code",
   "execution_count": 42,
   "metadata": {},
   "outputs": [
    {
     "ename": "SyntaxError",
     "evalue": "expected ':' (1400082403.py, line 17)",
     "output_type": "error",
     "traceback": [
      "\u001b[0;36m  Cell \u001b[0;32mIn[42], line 17\u001b[0;36m\u001b[0m\n\u001b[0;31m    else\u001b[0m\n\u001b[0m        ^\u001b[0m\n\u001b[0;31mSyntaxError\u001b[0m\u001b[0;31m:\u001b[0m expected ':'\n"
     ]
    }
   ],
   "source": [
    "# 輸入顧客購買金額，若金額在\n",
    "# 100000元打八折\n",
    "# 50000元打八五折\n",
    "# 30000元打九折\n",
    "# 10000元折九五折\n",
    "# 請輸入購買金額:130000, noa paa ae nt jn : 104000.0元\n",
    "\n",
    "money = 130000\n",
    "if money >= 100000:\n",
    "    print(int(\"money*0.8\"))\n",
    "elif money >= 50000:\n",
    "    print(int(\"money*0.85\"))\n",
    "elif money >= 30000:\n",
    "    print(int(\"money*0.9\"))\n",
    "elif money >= 10000:\n",
    "    print(int(\"money*0.95\"))\n",
    "else\n",
    "    print(int(\"money\"))"
   ]
  }
 ],
 "metadata": {
  "kernelspec": {
   "display_name": "Python 3",
   "language": "python",
   "name": "python3"
  },
  "language_info": {
   "codemirror_mode": {
    "name": "ipython",
    "version": 3
   },
   "file_extension": ".py",
   "mimetype": "text/x-python",
   "name": "python",
   "nbconvert_exporter": "python",
   "pygments_lexer": "ipython3",
   "version": "3.10.8"
  }
 },
 "nbformat": 4,
 "nbformat_minor": 2
}
